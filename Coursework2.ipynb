{
 "cells": [
  {
   "cell_type": "code",
   "execution_count": 1,
   "metadata": {},
   "outputs": [],
   "source": [
    "import numpy as np\n",
    "import matplotlib.pyplot as plt\n",
    "import support_code"
   ]
  },
  {
   "cell_type": "code",
   "execution_count": 32,
   "metadata": {},
   "outputs": [],
   "source": [
    "data = np.load('./ct_data.npz')\n",
    "X_train = data['X_train']; X_val = data['X_val']; X_test = data['X_test']\n",
    "y_train = data['y_train']; y_val = data['y_val']; y_test = data['y_test']"
   ]
  },
  {
   "cell_type": "markdown",
   "metadata": {},
   "source": [
    "# 1"
   ]
  },
  {
   "cell_type": "markdown",
   "metadata": {},
   "source": [
    "## a)"
   ]
  },
  {
   "cell_type": "code",
   "execution_count": 34,
   "metadata": {},
   "outputs": [
    {
     "name": "stdout",
     "output_type": "stream",
     "text": [
      "The mean of the training positions in y_train is -0.0000 ± 0.0050.\n",
      "The mean of the 5,785 positions in the y_val is -0.2160 ± 0.0127.\n",
      "The mean of the first 5,785 entries in the y_train is -0.4425 ± 0.0108.\n"
     ]
    }
   ],
   "source": [
    "print(f'The mean of the training positions in y_train is {np.mean(y_train):.4f} ± {np.var(y_train)/np.sqrt(len(y_train)):.4f}.')\n",
    "print(f'The mean of the 5,785 positions in the y_val is {np.mean(y_val):.4f} ± {np.var(y_val)/np.sqrt(len(y_val)):.4f}.')\n",
    "print(f'The mean of the first 5,785 entries in the y_train is {np.mean(y_train[0:5785,]):.4f} ± {np.var(y_train[0:5785,])/np.sqrt(5785):.4f}.')"
   ]
  },
  {
   "cell_type": "markdown",
   "metadata": {},
   "source": [
    "## b)"
   ]
  },
  {
   "cell_type": "code",
   "execution_count": 33,
   "metadata": {},
   "outputs": [],
   "source": [
    "index = np.var(X_train, axis=0) != 0\n",
    "\n",
    "X_train = X_train[:, index]\n",
    "X_val = X_val[:, index]\n",
    "X_test = X_test[:, index]"
   ]
  }
 ],
 "metadata": {
  "kernelspec": {
   "display_name": ".venv",
   "language": "python",
   "name": "python3"
  },
  "language_info": {
   "codemirror_mode": {
    "name": "ipython",
    "version": 3
   },
   "file_extension": ".py",
   "mimetype": "text/x-python",
   "name": "python",
   "nbconvert_exporter": "python",
   "pygments_lexer": "ipython3",
   "version": "3.11.5"
  }
 },
 "nbformat": 4,
 "nbformat_minor": 2
}
